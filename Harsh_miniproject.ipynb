{
 "cells": [
  {
   "cell_type": "code",
   "execution_count": 1,
   "id": "221644d4",
   "metadata": {},
   "outputs": [],
   "source": [
    "import pandas as pd\n",
    "import numpy as np\n",
    "from sklearn import svm\n",
    "from sklearn.naive_bayes import GaussianNB\n",
    "from sklearn.neighbors import KNeighborsRegressor\n",
    "from sklearn.cluster import KMeans\n",
    "from sklearn.metrics import accuracy_score"
   ]
  },
  {
   "cell_type": "markdown",
   "id": "d203f9a0",
   "metadata": {},
   "source": [
    "# Loading Data Set"
   ]
  },
  {
   "cell_type": "code",
   "execution_count": 2,
   "id": "536acc8e",
   "metadata": {},
   "outputs": [
    {
     "data": {
      "text/html": [
       "<div>\n",
       "<style scoped>\n",
       "    .dataframe tbody tr th:only-of-type {\n",
       "        vertical-align: middle;\n",
       "    }\n",
       "\n",
       "    .dataframe tbody tr th {\n",
       "        vertical-align: top;\n",
       "    }\n",
       "\n",
       "    .dataframe thead th {\n",
       "        text-align: right;\n",
       "    }\n",
       "</style>\n",
       "<table border=\"1\" class=\"dataframe\">\n",
       "  <thead>\n",
       "    <tr style=\"text-align: right;\">\n",
       "      <th></th>\n",
       "      <th>Unnamed: 0</th>\n",
       "      <th>Date</th>\n",
       "      <th>Price</th>\n",
       "      <th>High</th>\n",
       "      <th>Low</th>\n",
       "      <th>Close</th>\n",
       "      <th>Volume</th>\n",
       "      <th>Adj Close</th>\n",
       "    </tr>\n",
       "  </thead>\n",
       "  <tbody>\n",
       "    <tr>\n",
       "      <th>0</th>\n",
       "      <td>0</td>\n",
       "      <td>2013-05-01</td>\n",
       "      <td>20.60</td>\n",
       "      <td>23.04</td>\n",
       "      <td>20.43</td>\n",
       "      <td>21.80</td>\n",
       "      <td>1974715308</td>\n",
       "      <td>21.80</td>\n",
       "    </tr>\n",
       "    <tr>\n",
       "      <th>1</th>\n",
       "      <td>1</td>\n",
       "      <td>2013-06-01</td>\n",
       "      <td>21.85</td>\n",
       "      <td>22.79</td>\n",
       "      <td>21.20</td>\n",
       "      <td>22.03</td>\n",
       "      <td>1941280776</td>\n",
       "      <td>22.03</td>\n",
       "    </tr>\n",
       "    <tr>\n",
       "      <th>2</th>\n",
       "      <td>2</td>\n",
       "      <td>2013-07-01</td>\n",
       "      <td>22.18</td>\n",
       "      <td>23.22</td>\n",
       "      <td>21.91</td>\n",
       "      <td>22.22</td>\n",
       "      <td>2047770180</td>\n",
       "      <td>22.22</td>\n",
       "    </tr>\n",
       "    <tr>\n",
       "      <th>3</th>\n",
       "      <td>3</td>\n",
       "      <td>2013-08-01</td>\n",
       "      <td>22.40</td>\n",
       "      <td>22.77</td>\n",
       "      <td>21.16</td>\n",
       "      <td>21.19</td>\n",
       "      <td>1338144516</td>\n",
       "      <td>21.19</td>\n",
       "    </tr>\n",
       "    <tr>\n",
       "      <th>4</th>\n",
       "      <td>4</td>\n",
       "      <td>2013-09-01</td>\n",
       "      <td>21.38</td>\n",
       "      <td>22.67</td>\n",
       "      <td>21.37</td>\n",
       "      <td>21.92</td>\n",
       "      <td>1323615060</td>\n",
       "      <td>21.92</td>\n",
       "    </tr>\n",
       "    <tr>\n",
       "      <th>5</th>\n",
       "      <td>5</td>\n",
       "      <td>2013-10-01</td>\n",
       "      <td>22.03</td>\n",
       "      <td>26.06</td>\n",
       "      <td>21.10</td>\n",
       "      <td>25.79</td>\n",
       "      <td>2206771020</td>\n",
       "      <td>25.79</td>\n",
       "    </tr>\n",
       "    <tr>\n",
       "      <th>6</th>\n",
       "      <td>6</td>\n",
       "      <td>2013-11-01</td>\n",
       "      <td>25.82</td>\n",
       "      <td>26.73</td>\n",
       "      <td>25.15</td>\n",
       "      <td>26.52</td>\n",
       "      <td>1049213736</td>\n",
       "      <td>26.52</td>\n",
       "    </tr>\n",
       "    <tr>\n",
       "      <th>7</th>\n",
       "      <td>7</td>\n",
       "      <td>2013-12-01</td>\n",
       "      <td>26.61</td>\n",
       "      <td>28.05</td>\n",
       "      <td>26.25</td>\n",
       "      <td>28.05</td>\n",
       "      <td>1352374272</td>\n",
       "      <td>28.05</td>\n",
       "    </tr>\n",
       "    <tr>\n",
       "      <th>8</th>\n",
       "      <td>8</td>\n",
       "      <td>2014-01-01</td>\n",
       "      <td>27.91</td>\n",
       "      <td>29.69</td>\n",
       "      <td>27.08</td>\n",
       "      <td>29.55</td>\n",
       "      <td>2178287532</td>\n",
       "      <td>29.55</td>\n",
       "    </tr>\n",
       "    <tr>\n",
       "      <th>9</th>\n",
       "      <td>9</td>\n",
       "      <td>2014-02-01</td>\n",
       "      <td>29.51</td>\n",
       "      <td>30.75</td>\n",
       "      <td>28.23</td>\n",
       "      <td>30.42</td>\n",
       "      <td>1620230148</td>\n",
       "      <td>30.42</td>\n",
       "    </tr>\n",
       "  </tbody>\n",
       "</table>\n",
       "</div>"
      ],
      "text/plain": [
       "   Unnamed: 0        Date  Price   High    Low  Close      Volume  Adj Close\n",
       "0           0  2013-05-01  20.60  23.04  20.43  21.80  1974715308      21.80\n",
       "1           1  2013-06-01  21.85  22.79  21.20  22.03  1941280776      22.03\n",
       "2           2  2013-07-01  22.18  23.22  21.91  22.22  2047770180      22.22\n",
       "3           3  2013-08-01  22.40  22.77  21.16  21.19  1338144516      21.19\n",
       "4           4  2013-09-01  21.38  22.67  21.37  21.92  1323615060      21.92\n",
       "5           5  2013-10-01  22.03  26.06  21.10  25.79  2206771020      25.79\n",
       "6           6  2013-11-01  25.82  26.73  25.15  26.52  1049213736      26.52\n",
       "7           7  2013-12-01  26.61  28.05  26.25  28.05  1352374272      28.05\n",
       "8           8  2014-01-01  27.91  29.69  27.08  29.55  2178287532      29.55\n",
       "9           9  2014-02-01  29.51  30.75  28.23  30.42  1620230148      30.42"
      ]
     },
     "execution_count": 2,
     "metadata": {},
     "output_type": "execute_result"
    }
   ],
   "source": [
    "\n",
    "df = pd.read_csv(\"google-stock-dataset-Monthly.csv\")\n",
    "df.head(10)"
   ]
  },
  {
   "cell_type": "code",
   "execution_count": 3,
   "id": "2ed2b86d",
   "metadata": {},
   "outputs": [],
   "source": [
    "df.drop('Unnamed: 0', inplace=True, axis=1)"
   ]
  },
  {
   "cell_type": "code",
   "execution_count": 4,
   "id": "0df4865c",
   "metadata": {
    "scrolled": false
   },
   "outputs": [
    {
     "data": {
      "text/html": [
       "<div>\n",
       "<style scoped>\n",
       "    .dataframe tbody tr th:only-of-type {\n",
       "        vertical-align: middle;\n",
       "    }\n",
       "\n",
       "    .dataframe tbody tr th {\n",
       "        vertical-align: top;\n",
       "    }\n",
       "\n",
       "    .dataframe thead th {\n",
       "        text-align: right;\n",
       "    }\n",
       "</style>\n",
       "<table border=\"1\" class=\"dataframe\">\n",
       "  <thead>\n",
       "    <tr style=\"text-align: right;\">\n",
       "      <th></th>\n",
       "      <th>Date</th>\n",
       "      <th>Price</th>\n",
       "      <th>High</th>\n",
       "      <th>Low</th>\n",
       "      <th>Close</th>\n",
       "      <th>Volume</th>\n",
       "      <th>Adj Close</th>\n",
       "    </tr>\n",
       "  </thead>\n",
       "  <tbody>\n",
       "    <tr>\n",
       "      <th>0</th>\n",
       "      <td>2013-05-01</td>\n",
       "      <td>20.60</td>\n",
       "      <td>23.04</td>\n",
       "      <td>20.43</td>\n",
       "      <td>21.80</td>\n",
       "      <td>1974715308</td>\n",
       "      <td>21.80</td>\n",
       "    </tr>\n",
       "    <tr>\n",
       "      <th>1</th>\n",
       "      <td>2013-06-01</td>\n",
       "      <td>21.85</td>\n",
       "      <td>22.79</td>\n",
       "      <td>21.20</td>\n",
       "      <td>22.03</td>\n",
       "      <td>1941280776</td>\n",
       "      <td>22.03</td>\n",
       "    </tr>\n",
       "    <tr>\n",
       "      <th>2</th>\n",
       "      <td>2013-07-01</td>\n",
       "      <td>22.18</td>\n",
       "      <td>23.22</td>\n",
       "      <td>21.91</td>\n",
       "      <td>22.22</td>\n",
       "      <td>2047770180</td>\n",
       "      <td>22.22</td>\n",
       "    </tr>\n",
       "    <tr>\n",
       "      <th>3</th>\n",
       "      <td>2013-08-01</td>\n",
       "      <td>22.40</td>\n",
       "      <td>22.77</td>\n",
       "      <td>21.16</td>\n",
       "      <td>21.19</td>\n",
       "      <td>1338144516</td>\n",
       "      <td>21.19</td>\n",
       "    </tr>\n",
       "    <tr>\n",
       "      <th>4</th>\n",
       "      <td>2013-09-01</td>\n",
       "      <td>21.38</td>\n",
       "      <td>22.67</td>\n",
       "      <td>21.37</td>\n",
       "      <td>21.92</td>\n",
       "      <td>1323615060</td>\n",
       "      <td>21.92</td>\n",
       "    </tr>\n",
       "    <tr>\n",
       "      <th>5</th>\n",
       "      <td>2013-10-01</td>\n",
       "      <td>22.03</td>\n",
       "      <td>26.06</td>\n",
       "      <td>21.10</td>\n",
       "      <td>25.79</td>\n",
       "      <td>2206771020</td>\n",
       "      <td>25.79</td>\n",
       "    </tr>\n",
       "    <tr>\n",
       "      <th>6</th>\n",
       "      <td>2013-11-01</td>\n",
       "      <td>25.82</td>\n",
       "      <td>26.73</td>\n",
       "      <td>25.15</td>\n",
       "      <td>26.52</td>\n",
       "      <td>1049213736</td>\n",
       "      <td>26.52</td>\n",
       "    </tr>\n",
       "    <tr>\n",
       "      <th>7</th>\n",
       "      <td>2013-12-01</td>\n",
       "      <td>26.61</td>\n",
       "      <td>28.05</td>\n",
       "      <td>26.25</td>\n",
       "      <td>28.05</td>\n",
       "      <td>1352374272</td>\n",
       "      <td>28.05</td>\n",
       "    </tr>\n",
       "    <tr>\n",
       "      <th>8</th>\n",
       "      <td>2014-01-01</td>\n",
       "      <td>27.91</td>\n",
       "      <td>29.69</td>\n",
       "      <td>27.08</td>\n",
       "      <td>29.55</td>\n",
       "      <td>2178287532</td>\n",
       "      <td>29.55</td>\n",
       "    </tr>\n",
       "    <tr>\n",
       "      <th>9</th>\n",
       "      <td>2014-02-01</td>\n",
       "      <td>29.51</td>\n",
       "      <td>30.75</td>\n",
       "      <td>28.23</td>\n",
       "      <td>30.42</td>\n",
       "      <td>1620230148</td>\n",
       "      <td>30.42</td>\n",
       "    </tr>\n",
       "  </tbody>\n",
       "</table>\n",
       "</div>"
      ],
      "text/plain": [
       "         Date  Price   High    Low  Close      Volume  Adj Close\n",
       "0  2013-05-01  20.60  23.04  20.43  21.80  1974715308      21.80\n",
       "1  2013-06-01  21.85  22.79  21.20  22.03  1941280776      22.03\n",
       "2  2013-07-01  22.18  23.22  21.91  22.22  2047770180      22.22\n",
       "3  2013-08-01  22.40  22.77  21.16  21.19  1338144516      21.19\n",
       "4  2013-09-01  21.38  22.67  21.37  21.92  1323615060      21.92\n",
       "5  2013-10-01  22.03  26.06  21.10  25.79  2206771020      25.79\n",
       "6  2013-11-01  25.82  26.73  25.15  26.52  1049213736      26.52\n",
       "7  2013-12-01  26.61  28.05  26.25  28.05  1352374272      28.05\n",
       "8  2014-01-01  27.91  29.69  27.08  29.55  2178287532      29.55\n",
       "9  2014-02-01  29.51  30.75  28.23  30.42  1620230148      30.42"
      ]
     },
     "execution_count": 4,
     "metadata": {},
     "output_type": "execute_result"
    }
   ],
   "source": [
    "df.head(10)"
   ]
  },
  {
   "cell_type": "code",
   "execution_count": 5,
   "id": "7d0c90f5",
   "metadata": {},
   "outputs": [
    {
     "name": "stdout",
     "output_type": "stream",
     "text": [
      "Size/Shape of the dataset:  (120, 7)\n"
     ]
    }
   ],
   "source": [
    "print(\"Size/Shape of the dataset: \",df.shape)"
   ]
  },
  {
   "cell_type": "code",
   "execution_count": 6,
   "id": "0903d4e2",
   "metadata": {},
   "outputs": [
    {
     "name": "stdout",
     "output_type": "stream",
     "text": [
      "Date          object\n",
      "Price        float64\n",
      "High         float64\n",
      "Low          float64\n",
      "Close        float64\n",
      "Volume         int64\n",
      "Adj Close    float64\n",
      "dtype: object\n"
     ]
    }
   ],
   "source": [
    "print(df.dtypes)"
   ]
  },
  {
   "cell_type": "code",
   "execution_count": 7,
   "id": "712fea47",
   "metadata": {},
   "outputs": [],
   "source": [
    "X = df.drop(['Date', 'Close'], axis=1).values\n",
    "y = np.where(df['Close'].shift(-1) > df['Close'], 1, -1)"
   ]
  },
  {
   "cell_type": "code",
   "execution_count": 8,
   "id": "757e959d",
   "metadata": {},
   "outputs": [
    {
     "name": "stdout",
     "output_type": "stream",
     "text": [
      "[ 1  1 -1  1  1  1  1  1  1 -1 -1  1  1 -1  1  1 -1 -1 -1  1  1 -1 -1 -1\n",
      " -1  1 -1 -1  1  1  1 -1 -1  1 -1  1 -1  1 -1  1  1 -1  1  1  1  1  1  1\n",
      " -1  1  1  1  1  1  1  1 -1 -1 -1  1  1  1  1 -1 -1  1 -1  1  1  1  1 -1\n",
      " -1  1 -1  1  1  1  1  1 -1 -1  1  1 -1  1  1 -1  1  1 -1  1  1  1  1  1\n",
      "  1  1  1 -1  1 -1  1 -1 -1  1 -1 -1 -1  1 -1 -1 -1  1 -1  1 -1  1  1 -1]\n"
     ]
    }
   ],
   "source": [
    "print(y)"
   ]
  },
  {
   "cell_type": "markdown",
   "id": "6023ccf9",
   "metadata": {},
   "source": [
    "# Splitting of data"
   ]
  },
  {
   "cell_type": "code",
   "execution_count": 9,
   "id": "92b228a1",
   "metadata": {},
   "outputs": [],
   "source": [
    "split = int(0.8 * len(df))\n",
    "X_train, X_test, y_train, y_test = X[:split], X[split:], y[:split], y[split:]"
   ]
  },
  {
   "cell_type": "markdown",
   "id": "9dd6d1c2",
   "metadata": {},
   "source": [
    "# SVM Model"
   ]
  },
  {
   "cell_type": "code",
   "execution_count": 10,
   "id": "10c0b6d4",
   "metadata": {},
   "outputs": [
    {
     "data": {
      "text/plain": [
       "SVC()"
      ]
     },
     "execution_count": 10,
     "metadata": {},
     "output_type": "execute_result"
    }
   ],
   "source": [
    "svm_model = svm.SVC()\n",
    "svm_model.fit(X_train, y_train)"
   ]
  },
  {
   "cell_type": "code",
   "execution_count": 11,
   "id": "ec1e0477",
   "metadata": {},
   "outputs": [],
   "source": [
    "svm_pred = svm_model.predict(X_test)\n",
    "svm_accuracy = accuracy_score(y_test, svm_pred)"
   ]
  },
  {
   "cell_type": "code",
   "execution_count": 12,
   "id": "da9ecf60",
   "metadata": {},
   "outputs": [
    {
     "data": {
      "text/plain": [
       "array([1, 1, 1, 1, 1, 1, 1, 1, 1, 1, 1, 1, 1, 1, 1, 1, 1, 1, 1, 1, 1, 1,\n",
       "       1, 1])"
      ]
     },
     "execution_count": 12,
     "metadata": {},
     "output_type": "execute_result"
    }
   ],
   "source": [
    "svm_pred"
   ]
  },
  {
   "cell_type": "code",
   "execution_count": 13,
   "id": "b25d8fae",
   "metadata": {},
   "outputs": [
    {
     "name": "stdout",
     "output_type": "stream",
     "text": [
      "SVM accuracy: 0.4583333333333333\n"
     ]
    }
   ],
   "source": [
    "print('SVM accuracy:', svm_accuracy)"
   ]
  },
  {
   "cell_type": "markdown",
   "id": "8ca07dca",
   "metadata": {},
   "source": [
    "# Naive Bayes"
   ]
  },
  {
   "cell_type": "code",
   "execution_count": 14,
   "id": "c5a6af33",
   "metadata": {},
   "outputs": [
    {
     "data": {
      "text/plain": [
       "GaussianNB()"
      ]
     },
     "execution_count": 14,
     "metadata": {},
     "output_type": "execute_result"
    }
   ],
   "source": [
    "nb_model = GaussianNB()\n",
    "nb_model.fit(X_train, y_train)"
   ]
  },
  {
   "cell_type": "code",
   "execution_count": 15,
   "id": "fe8c4026",
   "metadata": {},
   "outputs": [],
   "source": [
    "nb_pred = nb_model.predict(X_test)\n",
    "nb_accuracy = accuracy_score(y_test, nb_pred)"
   ]
  },
  {
   "cell_type": "code",
   "execution_count": 16,
   "id": "5e6d16db",
   "metadata": {},
   "outputs": [
    {
     "data": {
      "text/plain": [
       "array([1, 1, 1, 1, 1, 1, 1, 1, 1, 1, 1, 1, 1, 1, 1, 1, 1, 1, 1, 1, 1, 1,\n",
       "       1, 1])"
      ]
     },
     "execution_count": 16,
     "metadata": {},
     "output_type": "execute_result"
    }
   ],
   "source": [
    "nb_pred"
   ]
  },
  {
   "cell_type": "code",
   "execution_count": 17,
   "id": "accc822e",
   "metadata": {
    "scrolled": true
   },
   "outputs": [
    {
     "name": "stdout",
     "output_type": "stream",
     "text": [
      "Naive Bayes accuracy: 0.4583333333333333\n"
     ]
    }
   ],
   "source": [
    "print('Naive Bayes accuracy:', nb_accuracy)"
   ]
  },
  {
   "cell_type": "markdown",
   "id": "4dc8a342",
   "metadata": {},
   "source": [
    "# K Nearest Neighbour"
   ]
  },
  {
   "cell_type": "code",
   "execution_count": 18,
   "id": "5b40937c",
   "metadata": {},
   "outputs": [
    {
     "data": {
      "text/plain": [
       "KNeighborsRegressor()"
      ]
     },
     "execution_count": 18,
     "metadata": {},
     "output_type": "execute_result"
    }
   ],
   "source": [
    "knn_model = KNeighborsRegressor(n_neighbors=5)\n",
    "knn_model.fit(X_train, y_train)"
   ]
  },
  {
   "cell_type": "code",
   "execution_count": 19,
   "id": "04ada1a9",
   "metadata": {},
   "outputs": [],
   "source": [
    "knn_pred = knn_model.predict(X_test)\n",
    "knn_accuracy = accuracy_score(y_test, np.where(knn_pred > 0, 1, -1))"
   ]
  },
  {
   "cell_type": "code",
   "execution_count": 20,
   "id": "e5f2d00d",
   "metadata": {
    "scrolled": true
   },
   "outputs": [
    {
     "name": "stdout",
     "output_type": "stream",
     "text": [
      "KNN accuracy: 0.5416666666666666\n"
     ]
    }
   ],
   "source": [
    "print('KNN accuracy:', knn_accuracy)"
   ]
  },
  {
   "cell_type": "markdown",
   "id": "85585b8f",
   "metadata": {},
   "source": [
    "# K Means"
   ]
  },
  {
   "cell_type": "code",
   "execution_count": 21,
   "id": "6b8d043d",
   "metadata": {},
   "outputs": [
    {
     "data": {
      "text/plain": [
       "KMeans(n_clusters=2)"
      ]
     },
     "execution_count": 21,
     "metadata": {},
     "output_type": "execute_result"
    }
   ],
   "source": [
    "kmeans_model = KMeans(n_clusters=2)\n",
    "kmeans_model.fit(X)"
   ]
  },
  {
   "cell_type": "code",
   "execution_count": 22,
   "id": "b36f3680",
   "metadata": {},
   "outputs": [],
   "source": [
    "kmeans_labels = kmeans_model.labels_"
   ]
  },
  {
   "cell_type": "code",
   "execution_count": 23,
   "id": "8709fdb7",
   "metadata": {
    "scrolled": true
   },
   "outputs": [
    {
     "name": "stdout",
     "output_type": "stream",
     "text": [
      "K-Means cluster labels: [1 1 1 1 1 1 0 1 1 1 1 1 0 0 0 0 0 0 0 0 0 0 0 0 0 0 1 0 0 0 0 0 0 1 0 0 0\n",
      " 0 0 0 0 0 0 0 0 0 0 0 0 0 0 0 0 0 0 0 0 0 0 0 0 0 0 0 0 0 0 0 0 0 0 0 0 0\n",
      " 0 0 0 0 0 0 0 0 1 0 0 0 0 0 0 0 0 0 0 0 0 0 0 0 0 0 0 0 0 0 0 0 0 0 0 0 0\n",
      " 0 0 0 0 0 0 0 0 0]\n"
     ]
    }
   ],
   "source": [
    "print('K-Means cluster labels:', kmeans_labels)\n"
   ]
  },
  {
   "cell_type": "code",
   "execution_count": 24,
   "id": "fd4f8dcf",
   "metadata": {},
   "outputs": [
    {
     "name": "stdout",
     "output_type": "stream",
     "text": [
      "Silhouette score: 0.7617650336807331\n"
     ]
    }
   ],
   "source": [
    "from sklearn.datasets import make_blobs\n",
    "from sklearn.metrics import silhouette_score\n",
    "silhouette = silhouette_score(X, kmeans_model.labels_, metric='euclidean')\n",
    "print('Silhouette score:', silhouette)"
   ]
  },
  {
   "cell_type": "code",
   "execution_count": null,
   "id": "9e49bad9",
   "metadata": {},
   "outputs": [],
   "source": []
  }
 ],
 "metadata": {
  "kernelspec": {
   "display_name": "Python 3 (ipykernel)",
   "language": "python",
   "name": "python3"
  },
  "language_info": {
   "codemirror_mode": {
    "name": "ipython",
    "version": 3
   },
   "file_extension": ".py",
   "mimetype": "text/x-python",
   "name": "python",
   "nbconvert_exporter": "python",
   "pygments_lexer": "ipython3",
   "version": "3.9.13"
  }
 },
 "nbformat": 4,
 "nbformat_minor": 5
}
